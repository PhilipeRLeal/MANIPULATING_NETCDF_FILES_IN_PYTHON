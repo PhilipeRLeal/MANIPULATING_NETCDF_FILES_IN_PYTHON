{
  "cells": [
    {
      "cell_type": "code",
      "execution_count": null,
      "metadata": {
        "collapsed": false
      },
      "outputs": [],
      "source": [
        "%matplotlib inline"
      ]
    },
    {
      "cell_type": "markdown",
      "metadata": {},
      "source": [
        "\n# Using Xarray for Data read and selection\n\n\nUse Xarray module to read in model data from nomads server.\n\nThis example uses the xarray module to access data from the nomads server for\narchive NAM analysis data via OPENDaP. Xarray makes it easier to select times\nand levels, although you still have to know the coordinate variable name. A\nsimple 500 hPa plot is created after selecting with xarray.\n\n"
      ]
    },
    {
      "cell_type": "markdown",
      "metadata": {},
      "source": [
        "Import all of our needed modules\n\n"
      ]
    },
    {
      "cell_type": "code",
      "execution_count": null,
      "metadata": {
        "collapsed": false
      },
      "outputs": [],
      "source": [
        "from datetime import datetime\n\nimport cartopy.crs as ccrs\nimport cartopy.feature as cfeature\nimport matplotlib.pyplot as plt\nimport numpy as np\nimport scipy.ndimage as ndimage\nimport xarray as xr"
      ]
    },
    {
      "cell_type": "markdown",
      "metadata": {},
      "source": [
        "Accessing data using Xarray\n---------------------------\n\n"
      ]
    },
    {
      "cell_type": "code",
      "execution_count": null,
      "metadata": {
        "collapsed": false
      },
      "outputs": [],
      "source": [
        "# Set year, month, day, and hour values as variables to make it\n# easier to change dates for a case study\nbase_url = 'https://www.ncei.noaa.gov/thredds/dodsC/namanl/'\ndt = datetime(2016, 4, 16, 18)\ndata = xr.open_dataset('{}{dt:%Y%m}/{dt:%Y%m%d}/namanl_218_{dt:%Y%m%d}_'\n                       '{dt:%H}00_000.grb'.format(base_url, dt=dt),\n                       decode_times=True)\n\n# To list all available variables for this data set,\n# uncomment the following line\n# print(sorted(list(data.variables)))"
      ]
    },
    {
      "cell_type": "markdown",
      "metadata": {},
      "source": [
        "NAM data is in a projected coordinate and you get back the projection\nX and Y values in km\n\n"
      ]
    },
    {
      "cell_type": "code",
      "execution_count": null,
      "metadata": {
        "collapsed": false
      },
      "outputs": [],
      "source": [
        "# X, Y values are in units of km, need them in meters for plotting/calculations\ndata.x.values = data.x.values * 1000.\ndata.y.values = data.y.values * 1000.\n\n# Make them 2D for plotting/calculations\nx, y = np.meshgrid(data.x.values, data.y.values)"
      ]
    },
    {
      "cell_type": "markdown",
      "metadata": {},
      "source": [
        "Getting the valid times in a more useable format\n\n"
      ]
    },
    {
      "cell_type": "code",
      "execution_count": null,
      "metadata": {
        "collapsed": false
      },
      "outputs": [],
      "source": [
        "# Get the valid times from the file\nvtimes = []\nfor t in range(data.time.size):\n    vtimes.append(datetime.utcfromtimestamp(data.time[t].data.astype('O') / 1e9))\nprint(vtimes)"
      ]
    },
    {
      "cell_type": "markdown",
      "metadata": {},
      "source": [
        "Xarray has sime nice functionality to choose the time and level that\nyou specifically want to use. In this example the time variable is 'time' and\nthe level variable is 'isobaric1'. Unfortunately, these can be different with\neach file you use, so you'll always need to check what they are by listing\nthe coordinate variable names\n\n"
      ]
    },
    {
      "cell_type": "code",
      "execution_count": null,
      "metadata": {
        "collapsed": false
      },
      "outputs": [],
      "source": [
        "# print(data.Geopotential_height.coords)\nhght_500 = data.Geopotential_height_isobaric.sel(time1=vtimes[0], isobaric=500)\nuwnd_500 = data['u-component_of_wind_isobaric'].sel(time1=vtimes[0], isobaric=500)\nvwnd_500 = data['v-component_of_wind_isobaric'].sel(time1=vtimes[0], isobaric=500)"
      ]
    },
    {
      "cell_type": "markdown",
      "metadata": {},
      "source": [
        "Now make the 500-hPa map\n------------------------\n\n"
      ]
    },
    {
      "cell_type": "code",
      "execution_count": null,
      "metadata": {
        "collapsed": false
      },
      "outputs": [],
      "source": [
        "# Must set data projection, NAM is LCC projection\ndatacrs = ccrs.LambertConformal(\n    central_latitude=data.LambertConformal_Projection.latitude_of_projection_origin,\n    central_longitude=data.LambertConformal_Projection.longitude_of_central_meridian)\n\n# A different LCC projection for the plot.\nplotcrs = ccrs.LambertConformal(central_latitude=45., central_longitude=-100.,\n                                standard_parallels=[30, 60])\n\nfig = plt.figure(figsize=(17., 11.))\nax = plt.axes(projection=plotcrs)\nax.coastlines('50m', edgecolor='black')\nax.add_feature(cfeature.STATES, linewidth=0.5)\nax.set_extent([-130, -67, 20, 50], ccrs.PlateCarree())\n\nclev500 = np.arange(5100, 6000, 60)\ncs = ax.contour(x, y, ndimage.gaussian_filter(hght_500, sigma=5), clev500,\n                colors='k', linewidths=2.5, linestyles='solid', transform=datacrs)\ntl = plt.clabel(cs, fontsize=12, colors='k', inline=1, inline_spacing=8,\n                fmt='%i', rightside_up=True, use_clabeltext=True)\n# Here we put boxes around the clabels with a black boarder white facecolor\nfor t in tl:\n    t.set_bbox({'fc': 'w'})\n\n# Transform Vectors before plotting, then plot wind barbs.\nax.barbs(x, y, uwnd_500.data, vwnd_500.data, length=7, regrid_shape=20, transform=datacrs)\n\n# Add some titles to make the plot readable by someone else\nplt.title('500-hPa Geopotential Heights (m)', loc='left')\nplt.title('VALID: %s'.format(vtimes[0]), loc='right')\n\nplt.tight_layout()\nplt.show()"
      ]
    }
  ],
  "metadata": {
    "kernelspec": {
      "display_name": "Python 3",
      "language": "python",
      "name": "python3"
    },
    "language_info": {
      "codemirror_mode": {
        "name": "ipython",
        "version": 3
      },
      "file_extension": ".py",
      "mimetype": "text/x-python",
      "name": "python",
      "nbconvert_exporter": "python",
      "pygments_lexer": "ipython3",
      "version": "3.6.5"
    }
  },
  "nbformat": 4,
  "nbformat_minor": 0
}