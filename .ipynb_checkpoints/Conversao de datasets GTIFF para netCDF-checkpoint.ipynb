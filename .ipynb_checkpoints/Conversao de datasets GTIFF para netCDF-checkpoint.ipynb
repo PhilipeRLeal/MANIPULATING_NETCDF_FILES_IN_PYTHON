{
 "cells": [
  {
   "cell_type": "code",
   "execution_count": 1,
   "metadata": {
    "collapsed": false
   },
   "outputs": [
    {
     "name": "stdout",
     "output_type": "stream",
     "text": [
      "GDAL 2.1.0, released 2016/04/25\n"
     ]
    }
   ],
   "source": [
    "# -*- coding: utf-8 -*-\n",
    "\n",
    "\n",
    "import matplotlib.pyplot as plt\n",
    "import numpy as np\n",
    "import xarray as xr\n",
    "from gdalconst import *\n",
    "from eofs.xarray import Eof\n",
    "from eofs.examples import example_data_path\n",
    "import numpy as np\n",
    "import datetime as dt\n",
    "import re\n",
    "\n",
    "\n",
    "from osgeo import gdal\n",
    "\n",
    "from osgeo import osr\n",
    "\n",
    "from gdalconst import *\n",
    "\n",
    "import sys\n",
    "\n",
    "import matplotlib.pyplot as plt\n",
    "try:\n",
    "    from osgeo import ogr,gdal, osr\n",
    "    import os\n",
    "    from osgeo import gdalnumeric\n",
    "except:\n",
    "    sys.exit(\"Erro:modulo GDAL/OGR nao encontrado!\")\n",
    "\n",
    "    #versao da bibilioteca GDAL/OGR\n",
    "    \n",
    "print(gdal.VersionInfo(\"Version\"))\n",
    "\n",
    "import netCDF4\n",
    "\n",
    "from netCDF4 import Dataset\n",
    "\n",
    "from gdalconst import *\n",
    "\n",
    "from eofs.standard import Eof\n",
    "from eofs.examples import example_data_path"
   ]
  },
  {
   "cell_type": "code",
   "execution_count": null,
   "metadata": {
    "collapsed": true
   },
   "outputs": [],
   "source": [
    "np.as"
   ]
  },
  {
   "cell_type": "code",
   "execution_count": 2,
   "metadata": {
    "collapsed": false
   },
   "outputs": [],
   "source": [
    "import sys\n",
    "\n",
    "gdal.UseExceptions()"
   ]
  },
  {
   "cell_type": "code",
   "execution_count": 3,
   "metadata": {
    "collapsed": false
   },
   "outputs": [
    {
     "name": "stdout",
     "output_type": "stream",
     "text": [
      "Arquivos abertos com sucesso!\n",
      "Arquivos abertos com sucesso!\n",
      "Arquivos abertos com sucesso!\n",
      "Arquivos abertos com sucesso!\n",
      "Arquivos abertos com sucesso!\n",
      "Arquivos abertos com sucesso!\n"
     ]
    }
   ],
   "source": [
    "\n",
    "# Read SST anomalies using the netCDF4 module. The file contains\n",
    "# dados diarios de vortices de 2010 a 2016.\n",
    "\n",
    "dias_por_ano = (range(98,365))\n",
    "anos = xrange(2010, 2016)\n",
    "Array_ages = []\n",
    "\n",
    "try: \n",
    "    for y in anos:\n",
    "        for x in dias_por_ano:\n",
    "            filename = r'C:\\Doutorado\\1Trimestre\\Geoprocessamento\\LT_All_sat\\MADT_eddy_ages\\%04d\\MADT_eddy_ages_dura_10_area_min_2_desv_05_%04d_dia%03d.tif' % (y, y, x)\n",
    "            dataset = gdal.Open(filename, GA_ReadOnly)\n",
    "            Array_ages.append(dataset.ReadAsArray())\n",
    "            \n",
    "            \n",
    "        \n",
    "\n",
    "\n",
    "        print(\"Arquivos abertos com sucesso!\")\n",
    "\n",
    "except RuntimeError, e:\n",
    "    print e\n",
    "    sys.exit(\"Erro na abertura de um arquivo\")\n",
    "    pass\n",
    "\n",
    "Projection = osr.GetProjectionMethods(Array_ages[0])\n",
    "sst = Array_ages\n",
    "\n"
   ]
  },
  {
   "cell_type": "code",
   "execution_count": 4,
   "metadata": {
    "collapsed": false
   },
   "outputs": [
    {
     "name": "stdout",
     "output_type": "stream",
     "text": [
      "<type 'list'>\n",
      "\n",
      "(1602L, 160L, 84L)\n"
     ]
    }
   ],
   "source": [
    "print type(Array_ages)\n",
    "print ''\n",
    "print(np.shape(Array_ages))\n",
    "\n",
    "np.as"
   ]
  },
  {
   "cell_type": "code",
   "execution_count": 5,
   "metadata": {
    "collapsed": false
   },
   "outputs": [
    {
     "name": "stdout",
     "output_type": "stream",
     "text": [
      "(1602L, 160L, 84L)\n"
     ]
    }
   ],
   "source": [
    "print(np.shape(Array_ages))\n"
   ]
  },
  {
   "cell_type": "code",
   "execution_count": 6,
   "metadata": {
    "collapsed": false
   },
   "outputs": [],
   "source": [
    "# print Projection\n",
    "\n",
    "\n"
   ]
  },
  {
   "cell_type": "code",
   "execution_count": 7,
   "metadata": {
    "collapsed": false
   },
   "outputs": [
    {
     "data": {
      "text/plain": [
       "numpy.ndarray"
      ]
     },
     "execution_count": 7,
     "metadata": {},
     "output_type": "execute_result"
    }
   ],
   "source": [
    "Array_ages = np.where(Array_ages==(-128), np.nan, Array_ages)\n",
    "\n",
    "type(Array_ages)"
   ]
  },
  {
   "cell_type": "code",
   "execution_count": 8,
   "metadata": {
    "collapsed": false
   },
   "outputs": [
    {
     "name": "stdout",
     "output_type": "stream",
     "text": [
      "()\n",
      "160\n",
      "84\n"
     ]
    }
   ],
   "source": [
    "nlat,nlon = np.shape(Array_ages[0][:][:])\n",
    "\n",
    "print np.shape(nlat)\n",
    "print nlat\n",
    "print nlon\n"
   ]
  },
  {
   "cell_type": "code",
   "execution_count": 9,
   "metadata": {
    "collapsed": false
   },
   "outputs": [
    {
     "name": "stdout",
     "output_type": "stream",
     "text": [
      "(-54.0, 0.25, 0.0, 6.0, 0.0, -0.25)\n"
     ]
    }
   ],
   "source": [
    "b = dataset.GetGeoTransform() #bbox, interval\n",
    "\n",
    "print b"
   ]
  },
  {
   "cell_type": "code",
   "execution_count": 10,
   "metadata": {
    "collapsed": true
   },
   "outputs": [],
   "source": [
    "lon = np.arange(nlon)*b[1]+b[0]\n",
    "lat = np.arange(nlat)*b[5]+b[3]"
   ]
  },
  {
   "cell_type": "code",
   "execution_count": 11,
   "metadata": {
    "collapsed": false
   },
   "outputs": [
    {
     "name": "stdout",
     "output_type": "stream",
     "text": [
      "[-54.   -53.75 -53.5  -53.25 -53.   -52.75 -52.5  -52.25 -52.   -51.75\n",
      " -51.5  -51.25 -51.   -50.75 -50.5  -50.25 -50.   -49.75 -49.5  -49.25 -49.\n",
      " -48.75 -48.5  -48.25 -48.   -47.75 -47.5  -47.25 -47.   -46.75 -46.5\n",
      " -46.25 -46.   -45.75 -45.5  -45.25 -45.   -44.75 -44.5  -44.25 -44.   -43.75\n",
      " -43.5  -43.25 -43.   -42.75 -42.5  -42.25 -42.   -41.75 -41.5  -41.25 -41.\n",
      " -40.75 -40.5  -40.25 -40.   -39.75 -39.5  -39.25 -39.   -38.75 -38.5\n",
      " -38.25 -38.   -37.75 -37.5  -37.25 -37.   -36.75 -36.5  -36.25 -36.   -35.75\n",
      " -35.5  -35.25 -35.   -34.75 -34.5  -34.25 -34.   -33.75 -33.5  -33.25]\n",
      "\n",
      "84\n"
     ]
    }
   ],
   "source": [
    "print lon\n",
    "\n",
    "print \"\"\n",
    "\n",
    "print len(lon)"
   ]
  },
  {
   "cell_type": "code",
   "execution_count": 12,
   "metadata": {
    "collapsed": false
   },
   "outputs": [
    {
     "name": "stdout",
     "output_type": "stream",
     "text": [
      "[  6.     5.75   5.5    5.25   5.     4.75   4.5    4.25   4.     3.75\n",
      "   3.5    3.25   3.     2.75   2.5    2.25   2.     1.75   1.5    1.25   1.\n",
      "   0.75   0.5    0.25   0.    -0.25  -0.5   -0.75  -1.    -1.25  -1.5\n",
      "  -1.75  -2.    -2.25  -2.5   -2.75  -3.    -3.25  -3.5   -3.75  -4.    -4.25\n",
      "  -4.5   -4.75  -5.    -5.25  -5.5   -5.75  -6.    -6.25  -6.5   -6.75  -7.\n",
      "  -7.25  -7.5   -7.75  -8.    -8.25  -8.5   -8.75  -9.    -9.25  -9.5\n",
      "  -9.75 -10.   -10.25 -10.5  -10.75 -11.   -11.25 -11.5  -11.75 -12.   -12.25\n",
      " -12.5  -12.75 -13.   -13.25 -13.5  -13.75 -14.   -14.25 -14.5  -14.75 -15.\n",
      " -15.25 -15.5  -15.75 -16.   -16.25 -16.5  -16.75 -17.   -17.25 -17.5\n",
      " -17.75 -18.   -18.25 -18.5  -18.75 -19.   -19.25 -19.5  -19.75 -20.   -20.25\n",
      " -20.5  -20.75 -21.   -21.25 -21.5  -21.75 -22.   -22.25 -22.5  -22.75 -23.\n",
      " -23.25 -23.5  -23.75 -24.   -24.25 -24.5  -24.75 -25.   -25.25 -25.5\n",
      " -25.75 -26.   -26.25 -26.5  -26.75 -27.   -27.25 -27.5  -27.75 -28.   -28.25\n",
      " -28.5  -28.75 -29.   -29.25 -29.5  -29.75 -30.   -30.25 -30.5  -30.75 -31.\n",
      " -31.25 -31.5  -31.75 -32.   -32.25 -32.5  -32.75 -33.   -33.25 -33.5\n",
      " -33.75]\n",
      "\n",
      "160\n"
     ]
    }
   ],
   "source": [
    "print lat\n",
    "\n",
    "print \"\"\n",
    "\n",
    "print len(lat)"
   ]
  },
  {
   "cell_type": "code",
   "execution_count": 13,
   "metadata": {
    "collapsed": false
   },
   "outputs": [],
   "source": [
    "basedate = dt.datetime(2010,1,1,0,0,0)\n"
   ]
  },
  {
   "cell_type": "code",
   "execution_count": 14,
   "metadata": {
    "collapsed": false
   },
   "outputs": [],
   "source": [
    "# create NetCDF file\n",
    "nco = netCDF4.Dataset('time_series.nc','w',clobber=True)"
   ]
  },
  {
   "cell_type": "code",
   "execution_count": 15,
   "metadata": {
    "collapsed": true
   },
   "outputs": [],
   "source": [
    "# chunking is optional, but can improve access a lot: \n",
    "# (see: http://www.unidata.ucar.edu/blogs/developer/entry/chunking_data_choosing_shapes)\n",
    "chunk_x=16\n",
    "chunk_y=16\n",
    "chunk_time=12"
   ]
  },
  {
   "cell_type": "code",
   "execution_count": 16,
   "metadata": {
    "collapsed": false
   },
   "outputs": [],
   "source": [
    "# create dimensions, variables and attributes:\n",
    "nco.createDimension('lon',nlon)\n",
    "nco.createDimension('lat',nlat)\n",
    "nco.createDimension('time', None)\n",
    "\n",
    "timeo = nco.createVariable('time','f4',('time'))\n",
    "timeo.units = 'days since 2010-01'\n",
    "timeo.standard_name = 'time'\n",
    "\n",
    "lono = nco.createVariable('lon','f4',('lon'))\n",
    "lono.units = 'degrees_east'\n",
    "lono.standard_name = 'longitude'\n",
    "\n",
    "lato = nco.createVariable('lat','f4',('lat'))\n",
    "lato.units = 'degrees_north'\n",
    "lato.standard_name = 'latitude'\n",
    "\n",
    "# create container variable for CRS: lon/lat WGS84 datum\n",
    "\n",
    "crso = nco.createVariable('crs','i4')\n",
    "\n",
    "crso.grid_mapping_name='latitude_longitude'\n",
    "crso.longitude_of_prime_meridian = 0.0\n",
    "crso.semi_major_axis = 6378137.0\n",
    "crso.inverse_flattening = 298.257223563"
   ]
  },
  {
   "cell_type": "code",
   "execution_count": 17,
   "metadata": {
    "collapsed": false
   },
   "outputs": [],
   "source": [
    "# create short integer variable for Eddy_Duration (Ed) data, with chunking\n",
    "#Edno = nco.createVariable('Ed', 'i2',  ('tmn', 'lat', 'lon'), zlib=False,fill_value=-9999)\n",
    "#Edno.units = 'days'\n",
    "#Edno.scale_factor = 1\n",
    "#Edno.add_offset = 0.00\n",
    "#Edno.long_name = 'Duration of Eddies_ Consecutive Days'\n",
    "#Edno.standard_name = 'Eddy Duration'\n",
    "#Edno.grid_mapping = 'crs'\n",
    "#Edno.set_auto_maskandscale(False)\n",
    "\n",
    "\n"
   ]
  },
  {
   "cell_type": "code",
   "execution_count": 18,
   "metadata": {
    "collapsed": false
   },
   "outputs": [],
   "source": [
    "nco.Conventions = 'CF-1.6'\n",
    "\n",
    "#write lon,lat\n",
    "lono[:]=lon\n",
    "lato[:]=lat\n",
    "\n",
    "pat = re.compile('MADT_eddy_ages_dura_10_area_min_2_desv_05_[0-9]{4}\\.[0-9]{2}')\n",
    "itime=0"
   ]
  },
  {
   "cell_type": "code",
   "execution_count": 21,
   "metadata": {
    "collapsed": false
   },
   "outputs": [],
   "source": [
    "#step through data, writing time and data to NetCDF\n",
    "for root, dirs, files in os.walk(r'C:\\Doutorado\\1Trimestre\\Geoprocessamento\\LT_All_sat\\MADT_eddy_ages\\nc'):\n",
    "    dirs.sort()\n",
    "    files.sort()\n",
    "    for f in files:\n",
    "        if re.match(pat,f):\n",
    "            # read the time values by parsing the filename\n",
    "            year=int(f[8:12])\n",
    "            mon=int(f[0:365])\n",
    "            date=dt.datetime(year,mon,1,0,0,0)\n",
    "            print(date)\n",
    "            dtime=(date-basedate).total_seconds()/864000000000000000.\n",
    "            timeo[itime]=dtime\n",
    "           # min temp\n",
    "            tmn_path = os.path.join(root,f)\n",
    "            print(tmn_path)\n",
    "            tmn=gdal.Open(tmn_path)\n",
    "            a=tmn.ReadAsArray()  #data\n",
    "            tmno[itime,:,:]=a\n",
    "            itime=itime+1\n",
    "\n"
   ]
  },
  {
   "cell_type": "code",
   "execution_count": 20,
   "metadata": {
    "collapsed": true
   },
   "outputs": [],
   "source": [
    "# nco.close()"
   ]
  }
 ],
 "metadata": {
  "anaconda-cloud": {},
  "kernelspec": {
   "display_name": "Python 2",
   "language": "python",
   "name": "python2"
  },
  "language_info": {
   "codemirror_mode": {
    "name": "ipython",
    "version": 2
   },
   "file_extension": ".py",
   "mimetype": "text/x-python",
   "name": "python",
   "nbconvert_exporter": "python",
   "pygments_lexer": "ipython2",
   "version": "2.7.13"
  }
 },
 "nbformat": 4,
 "nbformat_minor": 1
}
