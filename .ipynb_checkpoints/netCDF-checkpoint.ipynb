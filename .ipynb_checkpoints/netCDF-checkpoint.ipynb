{
 "cells": [
  {
   "cell_type": "code",
   "execution_count": 1,
   "metadata": {},
   "outputs": [],
   "source": [
    "\n",
    "import h5py as hdf\n",
    "from h5py import *"
   ]
  },
  {
   "cell_type": "code",
   "execution_count": 2,
   "metadata": {},
   "outputs": [
    {
     "ename": "ImportError",
     "evalue": "No module named netCDF4",
     "output_type": "error",
     "traceback": [
      "\u001b[1;31m---------------------------------------------------------------------------\u001b[0m",
      "\u001b[1;31mImportError\u001b[0m                               Traceback (most recent call last)",
      "\u001b[1;32m<ipython-input-2-e78a91406c57>\u001b[0m in \u001b[0;36m<module>\u001b[1;34m()\u001b[0m\n\u001b[1;32m----> 1\u001b[1;33m \u001b[1;32mfrom\u001b[0m \u001b[0mnetCDF4\u001b[0m \u001b[1;32mimport\u001b[0m \u001b[1;33m*\u001b[0m\u001b[1;33m\u001b[0m\u001b[0m\n\u001b[0m\u001b[0;32m      2\u001b[0m \u001b[1;32mimport\u001b[0m \u001b[0mnumpy\u001b[0m \u001b[1;32mas\u001b[0m \u001b[0mnp\u001b[0m\u001b[1;33m\u001b[0m\u001b[0m\n",
      "\u001b[1;31mImportError\u001b[0m: No module named netCDF4"
     ]
    }
   ],
   "source": [
    "from netCDF4 import *\n",
    "import numpy as np"
   ]
  },
  {
   "cell_type": "code",
   "execution_count": null,
   "metadata": {},
   "outputs": [],
   "source": [
    "RCP45_2055 = Dataset('C:/Doutorado/2_Trimestre/Disciplinas/Climatologia/Anomalia_simples/Full_Year/2006_to_2055/RCP4.5_Primary_Productivity_Average_of_all_models_Anomaly_Entire_Year_2055_Global.nc', \"r\", format=\"NETCDF4\")"
   ]
  },
  {
   "cell_type": "code",
   "execution_count": null,
   "metadata": {},
   "outputs": [],
   "source": [
    "print (RCP45_2055)"
   ]
  },
  {
   "cell_type": "code",
   "execution_count": null,
   "metadata": {},
   "outputs": [],
   "source": [
    "Anomalia = RCP45_2055.variables['anomaly'][:]\n",
    "histclim = RCP45_2055.variables['histclim'][:]"
   ]
  },
  {
   "cell_type": "code",
   "execution_count": null,
   "metadata": {
    "collapsed": true
   },
   "outputs": [],
   "source": [
    "Anomalia = np.asanyarray(Anomalia)\n",
    "histclim = np.asanyarray(histclim)"
   ]
  },
  {
   "cell_type": "code",
   "execution_count": null,
   "metadata": {},
   "outputs": [],
   "source": [
    "print (Anomalia)"
   ]
  },
  {
   "cell_type": "code",
   "execution_count": null,
   "metadata": {},
   "outputs": [],
   "source": [
    "np.shape(Anomalia)"
   ]
  },
  {
   "cell_type": "code",
   "execution_count": null,
   "metadata": {
    "collapsed": true
   },
   "outputs": [],
   "source": [
    "import matplotlib.pyplot as mp"
   ]
  },
  {
   "cell_type": "code",
   "execution_count": null,
   "metadata": {},
   "outputs": [],
   "source": [
    "mp.imshow(Anomalia)\n",
    "mp.show()"
   ]
  },
  {
   "cell_type": "code",
   "execution_count": null,
   "metadata": {
    "collapsed": true
   },
   "outputs": [],
   "source": [
    "Anomalia_corrigida = Anomalia[::-1,:]\n",
    "histclim_corrigido = histclim[::-1,:]"
   ]
  },
  {
   "cell_type": "code",
   "execution_count": null,
   "metadata": {},
   "outputs": [],
   "source": [
    "mp.imshow(histclim_corrigido)\n",
    "\n",
    "mp.show()\n",
    "print (np.max(histclim_corrigido))\n",
    "print (np.mean((histclim_corrigido)))"
   ]
  },
  {
   "cell_type": "code",
   "execution_count": null,
   "metadata": {},
   "outputs": [],
   "source": [
    "Anomalia_corrigida = np.where(Anomalia_corrigida>10^18,  np.nan, Anomalia_corrigida)"
   ]
  },
  {
   "cell_type": "code",
   "execution_count": null,
   "metadata": {},
   "outputs": [],
   "source": [
    "np.max(Anomalia_corrigida)"
   ]
  },
  {
   "cell_type": "code",
   "execution_count": null,
   "metadata": {},
   "outputs": [],
   "source": [
    "mp.imshow(Anomalia_corrigida)\n",
    "mp.show()"
   ]
  },
  {
   "cell_type": "code",
   "execution_count": null,
   "metadata": {
    "collapsed": true
   },
   "outputs": [],
   "source": [
    "from scipy.ndimage import zoom"
   ]
  },
  {
   "cell_type": "code",
   "execution_count": null,
   "metadata": {},
   "outputs": [],
   "source": [
    "histclim_corrigido = np.where(histclim_corrigido == 0, (-1), histclim_corrigido)\n",
    "\n",
    "print(np.min(histclim_corrigido))\n",
    "\n",
    "Anomalia_corrigida = np.where(Anomalia_corrigida == 0, (-1), Anomalia_corrigida)\n",
    "\n",
    "print(np.min(Anomalia_corrigida))"
   ]
  },
  {
   "cell_type": "code",
   "execution_count": null,
   "metadata": {},
   "outputs": [],
   "source": [
    "Anomalia_relativa = np.divide(Anomalia_corrigida+1, histclim+1)*100"
   ]
  },
  {
   "cell_type": "code",
   "execution_count": null,
   "metadata": {},
   "outputs": [],
   "source": [
    "print(np.max(Anomalia_relativa))\n",
    "print(np.min(Anomalia_relativa))\n",
    "\n",
    "Anomalia_corrigida_interpolada_spline = zoom(Anomalia_corrigida, 12)\n",
    "histclim_corrigido_interpolado_spline = zoom(Anomalia_corrigida, 12)"
   ]
  },
  {
   "cell_type": "code",
   "execution_count": null,
   "metadata": {},
   "outputs": [],
   "source": [
    "Anomalia_relativa = np.where(Anomalia_relativa > 200, np.nan, Anomalia_relativa)\n",
    "\n",
    "print (np.shape(Anomalia_relativa))\n",
    "print(np.max(Anomalia_relativa))\n",
    "print(np.min(Anomalia_relativa))"
   ]
  },
  {
   "cell_type": "code",
   "execution_count": null,
   "metadata": {},
   "outputs": [],
   "source": [
    "mp.imshow(Anomalia_relativa)\n",
    "mp.axes()\n",
    "mp.autoscale()\n",
    "mp.legend('latitude')\n",
    "mp.colorbar()\n",
    "mp.show()"
   ]
  },
  {
   "cell_type": "code",
   "execution_count": null,
   "metadata": {},
   "outputs": [],
   "source": [
    "array = [[0,1,2],[4,5,6],[7,8,9]]\n",
    "\n",
    "array = np.asanyarray(array)\n",
    "print(np.shape(array))"
   ]
  },
  {
   "cell_type": "code",
   "execution_count": null,
   "metadata": {},
   "outputs": [],
   "source": [
    "multiplier1 = 12\n",
    "multiplier2 = 12\n",
    "lista = []\n",
    "def interpolacao_por_pixel(array, multiplier1, multiplier2):\n",
    "    for i in range(np.shape(array)[0]):\n",
    "        for k in range(multiplier1):\n",
    "            for j in range(np.shape(array)[1]):\n",
    "                for n in range(multiplier2):\n",
    "                    lista.append(j)\n",
    "    return array = np.asanyarray(array)\n",
    "lista = np.asanyarray(lista)            "
   ]
  },
  {
   "cell_type": "code",
   "execution_count": null,
   "metadata": {
    "collapsed": true
   },
   "outputs": [],
   "source": []
  }
 ],
 "metadata": {
  "kernelspec": {
   "display_name": "Python 2",
   "language": "python",
   "name": "python2"
  },
  "language_info": {
   "codemirror_mode": {
    "name": "ipython",
    "version": 2
   },
   "file_extension": ".py",
   "mimetype": "text/x-python",
   "name": "python",
   "nbconvert_exporter": "python",
   "pygments_lexer": "ipython2",
   "version": "2.7.14"
  }
 },
 "nbformat": 4,
 "nbformat_minor": 2
}
